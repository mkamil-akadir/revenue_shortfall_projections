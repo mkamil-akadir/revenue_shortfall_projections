{
 "cells": [
  {
   "cell_type": "markdown",
   "id": "04a9f7de-13cd-4de4-9842-8787ff5d8c22",
   "metadata": {},
   "source": [
    "# Step 1: Load Necessary Libraries"
   ]
  },
  {
   "cell_type": "code",
   "execution_count": 1,
   "id": "42c19c54-3df1-4cee-b01f-b867e9c9357f",
   "metadata": {},
   "outputs": [],
   "source": [
    "# Step 1: Load Necessary Libraries\n",
    "import pandas as pd\n",
    "import numpy as np\n",
    "import logging"
   ]
  },
  {
   "cell_type": "code",
   "execution_count": 3,
   "id": "9764f90e-54c0-4e5e-9ab2-9407251e5cbe",
   "metadata": {},
   "outputs": [],
   "source": [
    "# Set up logging\n",
    "logging.basicConfig(filename='data_cleaning.log', level=logging.INFO,\n",
    "                    format='%(asctime)s - %(levelname)s - %(message)s')"
   ]
  },
  {
   "cell_type": "markdown",
   "id": "a1b1e3ca-56b9-4df9-9ada-a30970e5e460",
   "metadata": {},
   "source": [
    "# Step 2: Load Data from CSV"
   ]
  },
  {
   "cell_type": "code",
   "execution_count": 15,
   "id": "4c7b4064-8c21-4bb4-b739-4c76ac53d406",
   "metadata": {},
   "outputs": [
    {
     "name": "stdout",
     "output_type": "stream",
     "text": [
      "Initial Data Preview:\n"
     ]
    },
    {
     "data": {
      "text/html": [
       "<div>\n",
       "<style scoped>\n",
       "    .dataframe tbody tr th:only-of-type {\n",
       "        vertical-align: middle;\n",
       "    }\n",
       "\n",
       "    .dataframe tbody tr th {\n",
       "        vertical-align: top;\n",
       "    }\n",
       "\n",
       "    .dataframe thead th {\n",
       "        text-align: right;\n",
       "    }\n",
       "</style>\n",
       "<table border=\"1\" class=\"dataframe\">\n",
       "  <thead>\n",
       "    <tr style=\"text-align: right;\">\n",
       "      <th></th>\n",
       "      <th>Region</th>\n",
       "      <th>Month</th>\n",
       "      <th>Projected_Revenue</th>\n",
       "      <th>Actual_Revenue</th>\n",
       "      <th>Growth_Target</th>\n",
       "      <th>Status</th>\n",
       "    </tr>\n",
       "  </thead>\n",
       "  <tbody>\n",
       "    <tr>\n",
       "      <th>0</th>\n",
       "      <td>North</td>\n",
       "      <td>2024-01</td>\n",
       "      <td>500000</td>\n",
       "      <td>490000</td>\n",
       "      <td>0.05</td>\n",
       "      <td>Achieved</td>\n",
       "    </tr>\n",
       "    <tr>\n",
       "      <th>1</th>\n",
       "      <td>East</td>\n",
       "      <td>2024-01</td>\n",
       "      <td>750000</td>\n",
       "      <td>NaN</td>\n",
       "      <td>0.04</td>\n",
       "      <td>In Progress</td>\n",
       "    </tr>\n",
       "    <tr>\n",
       "      <th>2</th>\n",
       "      <td>South</td>\n",
       "      <td>2024-01</td>\n",
       "      <td>625000</td>\n",
       "      <td>500000</td>\n",
       "      <td>0.03</td>\n",
       "      <td>Below Target</td>\n",
       "    </tr>\n",
       "    <tr>\n",
       "      <th>3</th>\n",
       "      <td>West</td>\n",
       "      <td>2024-01</td>\n",
       "      <td>\"Not Available\"</td>\n",
       "      <td>720000</td>\n",
       "      <td>0.06</td>\n",
       "      <td>Achieved</td>\n",
       "    </tr>\n",
       "    <tr>\n",
       "      <th>4</th>\n",
       "      <td>North</td>\n",
       "      <td>2024-02</td>\n",
       "      <td>550000</td>\n",
       "      <td>530000</td>\n",
       "      <td>NaN</td>\n",
       "      <td>Achieved</td>\n",
       "    </tr>\n",
       "  </tbody>\n",
       "</table>\n",
       "</div>"
      ],
      "text/plain": [
       "  Region    Month Projected_Revenue Actual_Revenue Growth_Target        Status\n",
       "0  North  2024-01            500000         490000          0.05      Achieved\n",
       "1   East  2024-01            750000            NaN          0.04   In Progress\n",
       "2  South  2024-01            625000         500000          0.03  Below Target\n",
       "3   West  2024-01   \"Not Available\"         720000          0.06      Achieved\n",
       "4  North  2024-02            550000         530000           NaN      Achieved"
      ]
     },
     "metadata": {},
     "output_type": "display_data"
    }
   ],
   "source": [
    "# Step 2: Load Data from CSV\n",
    "# Assuming the file path is 'Raw/Revenue Report.csv'\n",
    "df = pd.read_csv('Raw/Revenue Report.csv')\n",
    "\n",
    "# Display the first few rows to understand the structure\n",
    "print(\"Initial Data Preview:\")\n",
    "display(df.head())\n"
   ]
  },
  {
   "cell_type": "markdown",
   "id": "0789d3f4-f856-43bf-a149-0650dd3bdfb4",
   "metadata": {},
   "source": [
    "# Step 3: Data Cleaning and Transformation"
   ]
  },
  {
   "cell_type": "code",
   "execution_count": 19,
   "id": "27f8876a-6014-47ca-b2ae-221877584184",
   "metadata": {},
   "outputs": [],
   "source": [
    "# Standardize Month column to datetime format for consistency\n",
    "logging.info(\"Standardizing the Month column\")\n",
    "df['Month'] = pd.to_datetime(df['Month'], errors='coerce', format='%Y-%m')\n"
   ]
  },
  {
   "cell_type": "code",
   "execution_count": 20,
   "id": "bce934d6-afe9-49d4-ab38-bd4597238fad",
   "metadata": {},
   "outputs": [],
   "source": [
    "\n",
    "# Sort the DataFrame by Region and Month for cumulative calculations\n",
    "df = df.sort_values(['Region', 'Month']).reset_index(drop=True)\n"
   ]
  },
  {
   "cell_type": "code",
   "execution_count": 22,
   "id": "f04e73c8-1997-4d0c-8736-1b2224f3c0e0",
   "metadata": {},
   "outputs": [],
   "source": [
    "# Fill forward Projected_Revenue to ensure it always has values using transform\n",
    "logging.info(\"Filling missing values in Projected_Revenue\")\n",
    "df['Projected_Revenue'] = df.groupby('Region')['Projected_Revenue'].transform(lambda x: x.ffill())"
   ]
  },
  {
   "cell_type": "code",
   "execution_count": 23,
   "id": "ee4c222a-e69a-4f1c-a727-222f70ac35f2",
   "metadata": {},
   "outputs": [],
   "source": [
    "# Fill missing Actual_Revenue values with 0, indicating no revenue reported that month\n",
    "logging.info(\"Filling missing values in Actual_Revenue with 0\")\n",
    "df['Actual_Revenue'] = df['Actual_Revenue'].fillna(0)"
   ]
  },
  {
   "cell_type": "code",
   "execution_count": 24,
   "id": "39518249-d573-420e-9f69-34975edc72da",
   "metadata": {},
   "outputs": [],
   "source": [
    "# Ensure Projected_Revenue and Actual_Revenue columns are numeric\n",
    "logging.info(\"Converting Projected_Revenue and Actual_Revenue to numeric values\")\n",
    "df['Projected_Revenue'] = pd.to_numeric(df['Projected_Revenue'], errors='coerce')\n",
    "df['Actual_Revenue'] = pd.to_numeric(df['Actual_Revenue'], errors='coerce')"
   ]
  },
  {
   "cell_type": "markdown",
   "id": "8dd3d837-21fa-47e6-9216-6f143ff8982d",
   "metadata": {},
   "source": [
    "# Step 4: Calculate Cumulative Revenue"
   ]
  },
  {
   "cell_type": "code",
   "execution_count": 25,
   "id": "87c7e3b3-aa0c-4222-9fa9-277e3bac6f6d",
   "metadata": {},
   "outputs": [],
   "source": [
    "# Calculate cumulative values for Projected and Actual Revenue\n",
    "logging.info(\"Calculating cumulative values for Projected and Actual Revenue\")\n",
    "df['Cumulative_Projected_Revenue'] = df.groupby('Region')['Projected_Revenue'].cumsum()\n",
    "df['Cumulative_Actual_Revenue'] = df.groupby('Region')['Actual_Revenue'].cumsum()\n"
   ]
  },
  {
   "cell_type": "markdown",
   "id": "9e1d1113-b007-434e-9344-3da9c80f5f88",
   "metadata": {},
   "source": [
    "# Step 5: Save the Cleaned and Processed Data"
   ]
  },
  {
   "cell_type": "code",
   "execution_count": 27,
   "id": "43025c41-a639-482c-963e-145bcecdff7b",
   "metadata": {},
   "outputs": [
    {
     "name": "stdout",
     "output_type": "stream",
     "text": [
      "Data cleaning and cumulative revenue calculation complete. Output saved to cleaned\\cumulative_revenue_report.csv.\n"
     ]
    }
   ],
   "source": [
    "import os\n",
    "\n",
    "# Define the output directory and file path\n",
    "output_dir = 'cleaned'\n",
    "output_file_path = os.path.join(output_dir, 'cumulative_revenue_report.csv')\n",
    "\n",
    "# Create the directory if it doesn't exist\n",
    "if not os.path.exists(output_dir):\n",
    "    os.makedirs(output_dir)\n",
    "\n",
    "# Save the cleaned and processed data to the new CSV file\n",
    "df.to_csv(output_file_path, index=False)\n",
    "logging.info(f\"Cleaned and processed data saved to {output_file_path}\")\n",
    "\n",
    "print(f\"Data cleaning and cumulative revenue calculation complete. Output saved to {output_file_path}.\")"
   ]
  }
 ],
 "metadata": {
  "kernelspec": {
   "display_name": "Python 3 (ipykernel)",
   "language": "python",
   "name": "python3"
  },
  "language_info": {
   "codemirror_mode": {
    "name": "ipython",
    "version": 3
   },
   "file_extension": ".py",
   "mimetype": "text/x-python",
   "name": "python",
   "nbconvert_exporter": "python",
   "pygments_lexer": "ipython3",
   "version": "3.10.7"
  }
 },
 "nbformat": 4,
 "nbformat_minor": 5
}
